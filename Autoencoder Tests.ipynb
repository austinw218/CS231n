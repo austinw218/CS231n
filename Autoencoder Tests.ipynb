{
 "cells": [
  {
   "cell_type": "code",
   "execution_count": null,
   "metadata": {
    "collapsed": true
   },
   "outputs": [],
   "source": [
    "%matplotlib inline\n",
    "%load_ext autoreload\n",
    "%autoreload 2"
   ]
  },
  {
   "cell_type": "code",
   "execution_count": null,
   "metadata": {
    "collapsed": true
   },
   "outputs": [],
   "source": [
    "import torch\n",
    "import utils\n",
    "from generator import Generator\n",
    "import numpy as np\n",
    "import matplotlib.pyplot as plt\n",
    "import stats\n",
    "import autoencoder\n",
    "\n",
    "from   torch.autograd import Variable\n",
    "import torch.nn as nn\n",
    "import torch.nn.functional as F\n",
    "import torch.optim as optim\n",
    "import torchvision\n",
    "from   torchvision import datasets, transforms"
   ]
  },
  {
   "cell_type": "code",
   "execution_count": null,
   "metadata": {
    "collapsed": true
   },
   "outputs": [],
   "source": [
    "def visualize(model, dataset, dataloader, num_to_plot=10):\n",
    "    batch = iter(dataloader).next()[0]\n",
    "    images = batch[:num_to_plot]\n",
    "    \n",
    "    model.eval()\n",
    "    output = model(images)\n",
    "\n",
    "    for i in range(num_to_plot):\n",
    "        plt.subplot(1,2,1)\n",
    "        if dataset == 'mnist':\n",
    "            plt.imshow(images[i].squeeze(0).numpy(), cmap='binary_r')\n",
    "        if dataset == 'cifar':\n",
    "            plt.imshow(images[i].numpy().transpose(1,2,0))            \n",
    "        plt.title('Original')\n",
    "        plt.xticks([])\n",
    "        plt.yticks([])\n",
    "        \n",
    "        plt.subplot(1,2,2)\n",
    "        if dataset == 'mnist':\n",
    "            plt.imshow(output[0][i].squeeze(0).numpy(), cmap='binary_r')\n",
    "        if dataset == 'cifar':\n",
    "            plt.imshow(output[0][i].numpy().transpose(1,2,0))\n",
    "        plt.title('Autoencoder output')\n",
    "        plt.xticks([])\n",
    "        plt.yticks([])\n",
    "        plt.show()\n"
   ]
  },
  {
   "cell_type": "code",
   "execution_count": null,
   "metadata": {
    "collapsed": true
   },
   "outputs": [],
   "source": [
    "# Dataloaders\n",
    "loader = utils.get_data('cifar', _train=True, _transforms=transforms.ToTensor(), \n",
    "                         _batch_size=batch_size)\n",
    "test_loader = utils.get_data('cifar', _train=False, _transforms=transforms.ToTensor(), \n",
    "                              _batch_size=batch_size)\n"
   ]
  }
 ],
 "metadata": {
  "kernelspec": {
   "display_name": "cs231n",
   "language": "python",
   "name": "cs231n"
  },
  "language_info": {
   "codemirror_mode": {
    "name": "ipython",
    "version": 3
   },
   "file_extension": ".py",
   "mimetype": "text/x-python",
   "name": "python",
   "nbconvert_exporter": "python",
   "pygments_lexer": "ipython3",
   "version": "3.6.4"
  }
 },
 "nbformat": 4,
 "nbformat_minor": 2
}
